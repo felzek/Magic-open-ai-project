version https://git-lfs.github.com/spec/v1
oid sha256:518b347f0d79d0334a2a194728d10dc2f4723dc92efc3ed81b29ab610cc22e8f
size 18316
