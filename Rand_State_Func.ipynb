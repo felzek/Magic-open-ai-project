version https://git-lfs.github.com/spec/v1
oid sha256:48841782217c7f44e4ea9710eb50c2820f850a51356b7886bf3ad7759f0221ba
size 1640731
