version https://git-lfs.github.com/spec/v1
oid sha256:60ff09c10099becb152db7acb6de836fc5c605be9bcf5d5198fb2299874c9b06
size 678571
