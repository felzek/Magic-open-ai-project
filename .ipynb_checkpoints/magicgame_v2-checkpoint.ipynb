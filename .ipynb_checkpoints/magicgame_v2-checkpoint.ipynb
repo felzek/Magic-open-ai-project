version https://git-lfs.github.com/spec/v1
oid sha256:ab6c5ca532e2031eb0ec71ec9500e67bd91431896f30ec69803abfd7e651c22f
size 18316
