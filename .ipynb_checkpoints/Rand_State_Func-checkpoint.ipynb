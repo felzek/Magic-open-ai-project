{
 "cells": [
  {
   "cell_type": "code",
   "execution_count": 20,
   "metadata": {},
   "outputs": [
    {
     "name": "stdout",
     "output_type": "stream",
     "text": [
      "33396\n",
      "33066\n",
      "33538\n"
     ]
    }
   ],
   "source": [
    "import random\n",
    "random.choice([0,1,7])\n",
    "count_zero = 0\n",
    "count_one = 0\n",
    "count_seven = 0\n",
    "for x in range(100000):\n",
    "    choice = random.choice([0,1,7])\n",
    "    if choice == 0:\n",
    "        count_zero += 1\n",
    "    elif choice == 1:\n",
    "        count_one += 1\n",
    "    else:\n",
    "        count_seven += 1\n",
    "\n",
    "print(count_zero)\n",
    "print(count_one)\n",
    "print(count_seven)"
   ]
  },
  {
   "cell_type": "code",
   "execution_count": null,
   "metadata": {},
   "outputs": [],
   "source": []
  }
 ],
 "metadata": {
  "kernelspec": {
   "display_name": "Python 3",
   "language": "python",
   "name": "python3"
  },
  "language_info": {
   "codemirror_mode": {
    "name": "ipython",
    "version": 3
   },
   "file_extension": ".py",
   "mimetype": "text/x-python",
   "name": "python",
   "nbconvert_exporter": "python",
   "pygments_lexer": "ipython3",
   "version": "3.8.3"
  }
 },
 "nbformat": 4,
 "nbformat_minor": 4
}
